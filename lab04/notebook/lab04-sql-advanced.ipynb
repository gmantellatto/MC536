{
 "cells": [
  {
   "cell_type": "code",
   "execution_count": 1,
   "metadata": {},
   "outputs": [],
   "source": [
    "%defaultDatasource jdbc:h2:mem:db"
   ]
  },
  {
   "cell_type": "markdown",
   "metadata": {},
   "source": [
    "# Analisando o Uso de Medicamentos\n",
    "* Esta tarefa analisará os dados conforme três abordagens: análise do comportamento estatístico; análise de correlação entre pares; análise de correlação de variáveis.\n",
    "* A partir dos arquivos CSV que estão no diretórios /data/nhanes considere as seguintes tabelas SQL."
   ]
  },
  {
   "cell_type": "code",
   "execution_count": 2,
   "metadata": {},
   "outputs": [],
   "source": [
    "DROP Table IF EXISTS Person;\n",
    "DROP Table IF EXISTS Drug;\n",
    "DROP Table IF EXISTS DrugUse;"
   ]
  },
  {
   "cell_type": "code",
   "execution_count": 6,
   "metadata": {},
   "outputs": [],
   "source": [
    "CREATE TABLE Person (\n",
    "  Id VARCHAR(5) NOT NULL,\n",
    "  Gender INTEGER,\n",
    "  Age INTEGER,\n",
    "  PRIMARY KEY(Id)\n",
    ") AS SELECT\n",
    "    id,\n",
    "    gender,\n",
    "    age\n",
    "FROM CSVREAD('../data/demographic-person.csv');\n",
    "\n",
    "CREATE TABLE Drug (\n",
    "  Code VARCHAR(6) NOT NULL,\n",
    "  Name VARCHAR(100) NOT NULL,\n",
    "  PRIMARY KEY(Code)\n",
    ") AS SELECT\n",
    "    code,\n",
    "    name\n",
    "FROM CSVREAD('../data/medications-drug.csv');\n",
    "\n",
    "CREATE TABLE DrugUse (\n",
    "  PersonId VARCHAR(5) NOT NULL,\n",
    "  DrugCode VARCHAR(6) NOT NULL,\n",
    "  DaysUse INTEGER,\n",
    "  FOREIGN KEY(PersonId)\n",
    "    REFERENCES Person(Id)\n",
    "      ON DELETE NO ACTION\n",
    "      ON UPDATE NO ACTION,\n",
    "  FOREIGN KEY(DrugCode)\n",
    "    REFERENCES Drug(Code)\n",
    "      ON DELETE NO ACTION\n",
    "      ON UPDATE NO ACTION\n",
    ") AS SELECT\n",
    "    person_id,\n",
    "    drug_code,\n",
    "    days_use\n",
    "FROM CSVREAD('../data/medications-use.csv');"
   ]
  },
  {
   "cell_type": "code",
   "execution_count": 7,
   "metadata": {},
   "outputs": [
    {
     "data": {
      "application/vnd.jupyter.widget-view+json": {
       "model_id": "ce8b5e6d-ed2b-4c94-a7ae-4ab565fe9217",
       "version_major": 2,
       "version_minor": 0
      },
      "method": "display_data"
     },
     "metadata": {},
     "output_type": "display_data"
    },
    {
     "data": {
      "application/vnd.jupyter.widget-view+json": {
       "model_id": "a7db0c5b-3f3f-4e7e-8e12-8335ad9615ae",
       "version_major": 2,
       "version_minor": 0
      },
      "method": "display_data"
     },
     "metadata": {},
     "output_type": "display_data"
    },
    {
     "data": {
      "application/vnd.jupyter.widget-view+json": {
       "model_id": "44c9e3ae-c35d-406e-9c10-307c11bef2fb",
       "version_major": 2,
       "version_minor": 0
      },
      "method": "display_data"
     },
     "metadata": {},
     "output_type": "display_data"
    }
   ],
   "source": [
    "SELECT * FROM Person;\n",
    "SELECT * FROM Drug;\n",
    "SELECT * FROM DrugUse"
   ]
  },
  {
   "cell_type": "markdown",
   "metadata": {},
   "source": [
    "# I. Análise de comportamento estatístico"
   ]
  },
  {
   "cell_type": "markdown",
   "metadata": {},
   "source": [
    "## 1) Contabilizando o uso de medicamentos\n",
    "\n",
    "* Liste o nome de todos os medicamentos e a quantidade de pessoas que usa cada um deles."
   ]
  },
  {
   "cell_type": "code",
   "execution_count": 5,
   "metadata": {},
   "outputs": [
    {
     "data": {
      "application/vnd.jupyter.widget-view+json": {
       "model_id": "aa9f0dee-648a-43d8-b46f-d9bca0531291",
       "version_major": 2,
       "version_minor": 0
      },
      "method": "display_data"
     },
     "metadata": {},
     "output_type": "display_data"
    }
   ],
   "source": [
    "SELECT DISTINCT M.Name, COUNT(U.DrugCode)\n",
    "    FROM Drug M, DrugUse U\n",
    "    WHERE M.Code = U.DrugCode\n",
    "    GROUP BY (M.Name)\n",
    "    ORDER BY (M.Name)"
   ]
  },
  {
   "cell_type": "markdown",
   "metadata": {},
   "source": [
    "## 2) Medicamento mais usado com VIEW\n",
    "\n",
    "* Informe o código do medicamento mais usado: fazendo uso de VIEW."
   ]
  },
  {
   "cell_type": "code",
   "execution_count": 6,
   "metadata": {},
   "outputs": [],
   "source": [
    "DROP VIEW IF EXISTS ContagemUsoMed;\n",
    "CREATE VIEW ContagemUsoMed AS\n",
    "    SELECT M.Code, COUNT(U.DrugCode) Num_Usos\n",
    "    FROM Drug M, DrugUse U\n",
    "    WHERE M.Code = U.DrugCode\n",
    "    GROUP BY(M.Code);"
   ]
  },
  {
   "cell_type": "code",
   "execution_count": 7,
   "metadata": {},
   "outputs": [
    {
     "data": {
      "text/plain": [
       "d00732"
      ]
     },
     "execution_count": 7,
     "metadata": {},
     "output_type": "execute_result"
    }
   ],
   "source": [
    "SELECT Contagem.Code\n",
    "    FROM ContagemUsoMed Contagem\n",
    "    WHERE Contagem.Num_Usos >= ALL(Select Num_Usos From ContagemUsoMed);"
   ]
  },
  {
   "cell_type": "markdown",
   "metadata": {},
   "source": [
    "## 3) Medicamento mais usado sem VIEW\n",
    "\n",
    "* Informe o código do medicamento mais usado: sem fazer uso de VIEW."
   ]
  },
  {
   "cell_type": "code",
   "execution_count": 9,
   "metadata": {},
   "outputs": [
    {
     "data": {
      "text/plain": [
       "d00732"
      ]
     },
     "execution_count": 9,
     "metadata": {},
     "output_type": "execute_result"
    }
   ],
   "source": [
    "SELECT Conta.DrugCode\n",
    "    FROM (SELECT U.DrugCode, COUNT(U.DrugCode) Num_Usos\n",
    "         FROM DrugUse U\n",
    "         GROUP BY U.DrugCode) AS Conta\n",
    "    WHERE Conta.Num_Usos = (SELECT MAX(Conta2.Num_Usos) \n",
    "                                     FROM (SELECT COUNT (U.DrugCode) Num_Usos\n",
    "                                              FROM DrugUse U\n",
    "                                              GROUP BY U.DrugCode) Conta2);"
   ]
  },
  {
   "cell_type": "markdown",
   "metadata": {},
   "source": [
    "## 4) Nome do medicamento mais usado\n",
    "* Informe o nome do medicamento mais usado (uso de VIEW é opcional)."
   ]
  },
  {
   "cell_type": "code",
   "execution_count": 10,
   "metadata": {},
   "outputs": [
    {
     "data": {
      "text/plain": [
       "LISINOPRIL"
      ]
     },
     "execution_count": 10,
     "metadata": {},
     "output_type": "execute_result"
    }
   ],
   "source": [
    "DROP VIEW IF EXISTS NomeMaisUsado;\n",
    "CREATE VIEW NomeMaisUsado AS\n",
    "    SELECT M.Name, COUNT(U.DrugCode) Num_Usos\n",
    "        FROM Drug M, DrugUse U\n",
    "        WHERE M.Code = U.DrugCode\n",
    "        GROUP BY(M.Code)\n",
    "        ORDER BY(M.Code);\n",
    "\n",
    "SELECT N.Name\n",
    "    FROM NomeMaisUsado N\n",
    "    WHERE N.Num_Usos = (SELECT MAX(N.Num_Usos) FROM NomeMaisUsado N);"
   ]
  },
  {
   "cell_type": "markdown",
   "metadata": {},
   "source": [
    "## 5) Contabilizando quanto as pessoas usam de medicamento\n",
    "\n",
    "* Informe o quantidade média de medicamentos diferentes usados por pessoa."
   ]
  },
  {
   "cell_type": "code",
   "execution_count": 11,
   "metadata": {},
   "outputs": [
    {
     "data": {
      "text/plain": [
       "3"
      ]
     },
     "execution_count": 11,
     "metadata": {},
     "output_type": "execute_result"
    }
   ],
   "source": [
    "DROP VIEW IF EXISTS MediaUsoMed;\n",
    "CREATE VIEW MediaUsoMed AS\n",
    "    SELECT P.Id, COUNT(U.DrugCode) Num_Medicamentos\n",
    "        FROM Person P, DrugUse U\n",
    "        WHERE P.Id = U.PersonId\n",
    "        GROUP BY(P.Id);\n",
    "        \n",
    "SELECT AVG(Num_Medicamentos)\n",
    "    FROM MediaUsoMed;"
   ]
  },
  {
   "cell_type": "markdown",
   "metadata": {},
   "source": [
    "## 6) Pessoas que usam mais do que a média\n",
    "\n",
    "* Liste o id das pessoas que usam mais medicamentos do que a média."
   ]
  },
  {
   "cell_type": "code",
   "execution_count": 12,
   "metadata": {},
   "outputs": [
    {
     "data": {
      "application/vnd.jupyter.widget-view+json": {
       "model_id": "0f4ee8fa-7ef9-45d7-bec7-ad9401df95c2",
       "version_major": 2,
       "version_minor": 0
      },
      "method": "display_data"
     },
     "metadata": {},
     "output_type": "display_data"
    }
   ],
   "source": [
    "SELECT MUM.Id, MUM.Num_Medicamentos\n",
    "    FROM MediaUsoMed MUM\n",
    "    WHERE MUM.Num_Medicamentos > (SELECT AVG(Num_Medicamentos)\n",
    "                        FROM MediaUsoMed);"
   ]
  },
  {
   "cell_type": "markdown",
   "metadata": {},
   "source": [
    "## 7) Análise do uso de medicamento\n",
    "\n",
    "* Considere que um médico quer fazer responder a seguinte questão: pessoas tendem a usar mais medicamentos conforme ficam mais velhas?\n",
    "* Escreva uma query que ajude o médico a realizar esta análise."
   ]
  },
  {
   "cell_type": "code",
   "execution_count": 18,
   "metadata": {},
   "outputs": [
    {
     "data": {
      "application/vnd.jupyter.widget-view+json": {
       "model_id": "5cfd9e34-872c-49f6-9f16-453f48418910",
       "version_major": 2,
       "version_minor": 0
      },
      "method": "display_data"
     },
     "metadata": {},
     "output_type": "display_data"
    }
   ],
   "source": [
    "DROP VIEW IF EXISTS MediaUsoMed;\n",
    "CREATE VIEW MediaUsoMed AS\n",
    "    SELECT P.Id, P.Age, COUNT(U.DrugCode) Num_Medicamentos\n",
    "        FROM Person P, DrugUse U\n",
    "        WHERE P.Id = U.PersonId\n",
    "        GROUP BY(P.Id);\n",
    "        \n",
    "SELECT M.Age, AVG(M.Num_Medicamentos)\n",
    "    FROM MediaUsoMed M\n",
    "    GROUP BY (Age);"
   ]
  },
  {
   "cell_type": "markdown",
   "metadata": {},
   "source": [
    "# Navegando por Hierarquias\n",
    "\n",
    "A seguir exercícios envolvendo navegação por hierarquias."
   ]
  },
  {
   "cell_type": "markdown",
   "metadata": {},
   "source": [
    "# Marcadores e Taxonomia\n",
    "\n",
    "Considere o modelo para `Marcadores` e `Taxonomia`:\n",
    "\n",
    "![UML](marcadores-taxonomia-uml.png)\n",
    "\n",
    "![Relacional](marcadores-taxonomia-er.png)\n",
    "\n",
    "Considere as sentenças SQL a seguir para montar as tabelas de `Marcadores` e `Taxonomia`:"
   ]
  },
  {
   "cell_type": "code",
   "execution_count": 5,
   "metadata": {},
   "outputs": [],
   "source": [
    "DROP TABLE IF EXISTS Taxonomia;\n",
    "DROP TABLE IF EXISTS Marcadores;\n",
    "\n",
    "CREATE TABLE Taxonomia (\n",
    "  Categoria VARCHAR(50) NOT NULL,\n",
    "  Superior  VARCHAR(50),\n",
    "  PRIMARY KEY(Categoria),\n",
    "  FOREIGN KEY(Superior)\n",
    "    REFERENCES Taxonomia(Categoria)\n",
    "      ON DELETE NO ACTION\n",
    "      ON UPDATE CASCADE\n",
    ");\n",
    "\n",
    "CREATE TABLE Marcadores (\n",
    "  Titulo VARCHAR(50) NOT NULL,\n",
    "  Endereco VARCHAR(80) NOT NULL,\n",
    "  Acessos INTEGER,\n",
    "  Categoria VARCHAR(50) NOT NULL,\n",
    "  PRIMARY KEY(Titulo),\n",
    "  FOREIGN KEY(Categoria)\n",
    "    REFERENCES Taxonomia(Categoria)\n",
    "      ON DELETE NO ACTION\n",
    "      ON UPDATE CASCADE\n",
    ");"
   ]
  },
  {
   "cell_type": "markdown",
   "metadata": {},
   "source": [
    "As tabelas são preenchidas com as seguintes tuplas:"
   ]
  },
  {
   "cell_type": "code",
   "execution_count": 6,
   "metadata": {},
   "outputs": [],
   "source": [
    "INSERT INTO Taxonomia VALUES ('Geral', NULL);\n",
    "INSERT INTO Taxonomia VALUES ('Serviços', 'Geral');\n",
    "INSERT INTO Taxonomia VALUES ('Acadêmico', 'Geral');\n",
    "INSERT INTO Taxonomia VALUES ('Relacionamento', 'Geral');\n",
    "INSERT INTO Taxonomia VALUES ('Busca', 'Serviços');\n",
    "INSERT INTO Taxonomia VALUES ('Portal', 'Serviços');\n",
    "INSERT INTO Taxonomia VALUES ('Mail', 'Serviços');\n",
    "INSERT INTO Taxonomia VALUES ('Vendas', 'Serviços');\n",
    "INSERT INTO Taxonomia VALUES ('Universidade', 'Acadêmico');\n",
    "INSERT INTO Taxonomia VALUES ('CG', 'Acadêmico');\n",
    "INSERT INTO Taxonomia VALUES ('Sociedade', 'Acadêmico');\n",
    "INSERT INTO Taxonomia VALUES ('Rede Social', 'Relacionamento');\n",
    "INSERT INTO Taxonomia VALUES ('Marketplace', 'Vendas');\n",
    "INSERT INTO Taxonomia VALUES ('Loja', 'Vendas');\n",
    "INSERT INTO Taxonomia VALUES ('Notícias', 'Portal');\n",
    "INSERT INTO Taxonomia VALUES ('Agregador', 'Portal');\n",
    "\n",
    "INSERT INTO Marcadores VALUES ('Terra', 'http://www.terra.com.br', 295, 'Portal');\n",
    "INSERT INTO Marcadores VALUES ('POVRay', 'http://www.povray.org', 2, 'CG');\n",
    "INSERT INTO Marcadores VALUES ('SBC', 'http://www.sbc.org.br', 26, 'Sociedade');\n",
    "INSERT INTO Marcadores VALUES ('Correios', 'http://www.correios.com.br', 45, 'Serviços');\n",
    "INSERT INTO Marcadores VALUES ('GMail', 'http://www.gmail.com', 296, 'Mail');\n",
    "INSERT INTO Marcadores VALUES ('Google', 'http://www.google.com', 1590, 'Busca');\n",
    "INSERT INTO Marcadores VALUES ('Yahoo', 'http://www.yahoo.com', 134, 'Serviços');\n",
    "INSERT INTO Marcadores VALUES ('Orkut', 'http://www.orkut.com', 45, 'Rede Social');\n",
    "INSERT INTO Marcadores VALUES ('iBahia', 'http://www.ibahia.com', 3, 'Portal');\n",
    "INSERT INTO Marcadores VALUES ('Submarino', 'http://www.submarino.com.br', 320, 'Loja');\n",
    "INSERT INTO Marcadores VALUES ('Amazon', 'https://www.amazon.com.br', 410, 'Marketplace');\n",
    "INSERT INTO Marcadores VALUES ('Americanas', 'https://www.americanas.com.br', 320, 'Loja');\n",
    "INSERT INTO Marcadores VALUES ('Mercado Livre', 'https://www.mercadolivre.com.br', 500, 'Marketplace');\n",
    "INSERT INTO Marcadores VALUES ('G1', 'https://g1.globo.com', 1200, 'Notícias');\n",
    "INSERT INTO Marcadores VALUES ('Folha', 'https://www.folha.uol.com.br', 850, 'Notícias');\n",
    "INSERT INTO Marcadores VALUES ('Google News', 'https://news.google.com', 900, 'Agregador');\n",
    "INSERT INTO Marcadores VALUES ('Flipboard', 'https://flipboard.com', 950, 'Agregador');"
   ]
  },
  {
   "cell_type": "markdown",
   "metadata": {},
   "source": [
    "Conteúdo da tabela `Taxonomia`:"
   ]
  },
  {
   "cell_type": "code",
   "execution_count": 7,
   "metadata": {},
   "outputs": [
    {
     "data": {
      "application/vnd.jupyter.widget-view+json": {
       "model_id": "783bea1d-0351-400a-8e7f-f5242227923e",
       "version_major": 2,
       "version_minor": 0
      },
      "method": "display_data"
     },
     "metadata": {},
     "output_type": "display_data"
    }
   ],
   "source": [
    "SELECT * FROM Taxonomia;"
   ]
  },
  {
   "cell_type": "markdown",
   "metadata": {},
   "source": [
    "Conteúdo da tabela `Marcadores`:"
   ]
  },
  {
   "cell_type": "code",
   "execution_count": 8,
   "metadata": {},
   "outputs": [
    {
     "data": {
      "application/vnd.jupyter.widget-view+json": {
       "model_id": "2a9f5c8c-53c8-412a-a3fb-7b0b00f6cf80",
       "version_major": 2,
       "version_minor": 0
      },
      "method": "display_data"
     },
     "metadata": {},
     "output_type": "display_data"
    }
   ],
   "source": [
    "SELECT * FROM Marcadores;"
   ]
  },
  {
   "cell_type": "markdown",
   "metadata": {},
   "source": [
    "## Tarefa 1\n",
    "\n",
    "Escreva em SQL uma consulta que retorne os marcadores da categoria `Serviços`, sem considerar as categorias subordinadas."
   ]
  },
  {
   "cell_type": "code",
   "execution_count": 9,
   "metadata": {},
   "outputs": [
    {
     "data": {
      "application/vnd.jupyter.widget-view+json": {
       "model_id": "1c3d967e-8d6b-4c19-ae04-bd9263c9b013",
       "version_major": 2,
       "version_minor": 0
      },
      "method": "display_data"
     },
     "metadata": {},
     "output_type": "display_data"
    }
   ],
   "source": [
    "SELECT * FROM Marcadores\n",
    "    WHERE Marcadores.Categoria = 'Serviços';"
   ]
  },
  {
   "cell_type": "markdown",
   "metadata": {},
   "source": [
    "## Tarefa 2\n",
    "\n",
    "Escreva em SQL uma consulta que retorne os marcadores da categoria `Serviços`, considerando as categorias subordinadas."
   ]
  },
  {
   "cell_type": "code",
   "execution_count": 18,
   "metadata": {},
   "outputs": [
    {
     "data": {
      "application/vnd.jupyter.widget-view+json": {
       "model_id": "af45ad12-929d-4a2f-b9cc-745ed03942e7",
       "version_major": 2,
       "version_minor": 0
      },
      "method": "display_data"
     },
     "metadata": {},
     "output_type": "display_data"
    }
   ],
   "source": [
    "SELECT * FROM Marcadores\n",
    "    WHERE Marcadores.Categoria = 'Serviços' OR Marcadores.Categoria = 'Portal' OR Marcadores.Categoria = 'Email' \n",
    "    OR Marcadores.Categoria = 'Vendas' OR Marcadores.Categoria = 'Busca' OR Marcadores.Categoria = 'Marketplace' \n",
    "    OR Marcadores.Categoria = 'Loja' OR Marcadores.Categoria = 'Agregador' OR Marcadores.Categoria = 'Notícias';"
   ]
  }
 ],
 "metadata": {
  "kernelspec": {
   "display_name": "SQL",
   "language": "SQL",
   "name": "sql"
  },
  "language_info": {
   "codemirror_mode": "sql",
   "file_extension": ".sql",
   "mimetype": "",
   "name": "SQL",
   "nbconverter_exporter": "",
   "version": ""
  },
  "toc": {
   "base_numbering": 1,
   "nav_menu": {},
   "number_sections": false,
   "sideBar": false,
   "skip_h1_title": false,
   "title_cell": "Table of Contents",
   "title_sidebar": "Contents",
   "toc_cell": false,
   "toc_position": {},
   "toc_section_display": false,
   "toc_window_display": false
  }
 },
 "nbformat": 4,
 "nbformat_minor": 4
}
